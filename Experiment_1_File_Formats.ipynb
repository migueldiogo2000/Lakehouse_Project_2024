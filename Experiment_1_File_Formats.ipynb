{
 "cells": [
  {
   "cell_type": "code",
   "execution_count": null,
   "id": "a5c52c8a",
   "metadata": {},
   "outputs": [],
   "source": [
    "import pyspark\n",
    "from delta import *\n",
    "\n",
    "builder = pyspark.sql.SparkSession.builder.appName(\"MyApp\") \\\n",
    "            .config(\"spark.sql.extensions\", \"io.delta.sql.DeltaSparkSessionExtension\") \\\n",
    "            .config(\"spark.sql.catalog.spark_catalog\", \"org.apache.spark.sql.delta.catalog.DeltaCatalog\") \\\n",
    " \n",
    "\n",
    "spark = configure_spark_with_delta_pip(builder, extra_packages=my_packages).getOrCreate()\n",
    "\n",
    "# https://spark.apache.org/docs/latest/api/python/reference/api/pyspark.SparkContext.setLogLevel.html\n",
    "#spark.sparkContext.setLogLevel(\"DEBUG\") # or TRACE, useful if there are connection issues!\n",
    "\n",
    "spark"
   ]
  },
  {
   "cell_type": "code",
   "execution_count": null,
   "id": "d9ec4eb6",
   "metadata": {},
   "outputs": [],
   "source": [
    "\n",
    "# Define file paths\n",
    "data_path = \"path_to_tpcH_dataset\"\n",
    "\n",
    "# Deconstructing the tpc-h .tbl files\n",
    "df_customers2 = spark.read.option(\"delimiter\", \"|\").csv(data_path + \"/customer.tbl\").toDF(\n",
    "    \"c_custkey\", \"c_name\", \"c_address\", \"c_nationkey\", \"c_phone\", \"c_acctbal\", \"c_mktsegment\", \"c_comment\", \"c_dummy\"\n",
    ")\n",
    "df_lineitem2 = spark.read.option(\"delimiter\", \"|\").csv(data_path + \"/lineitem.tbl\").toDF(\n",
    "    \"l_orderkey\", \"l_partkey\", \"l_suppkey\", \"l_linenumber\", \"l_quantity\", \"l_extendedprice\", \n",
    "    \"l_discount\", \"l_tax\", \"l_returnflag\", \"l_linestatus\", \"l_shipdate\", \"l_commitdate\", \n",
    "    \"l_receiptdate\", \"l_shipinstruct\", \"l_shipmode\", \"l_comment\", \"l_dummy\"\n",
    ")\n",
    "df_part2 = spark.read.option(\"delimiter\", \"|\").csv(data_path + \"/part.tbl\").toDF(\n",
    "    \"p_partkey\", \"p_name\", \"p_mfgr\", \"p_brand\", \"p_type\", \"p_size\", \"p_container\", \"p_retailprice\", \"p_comment\", \"p_dummy\"\n",
    ")\n",
    "df_region2 = spark.read.option(\"delimiter\", \"|\").csv(data_path + \"/region.tbl\").toDF(\n",
    "    \"r_regionkey\", \"r_name\", \"r_comment\", \"r_dummy\"\n",
    ")\n",
    "df_supplier2 = spark.read.option(\"delimiter\", \"|\").csv(data_path + \"/supplier.tbl\").toDF(\n",
    "    \"s_suppkey\", \"s_name\", \"s_address\", \"s_nationkey\", \"s_phone\", \"s_acctbal\", \"s_comment\", \"s_dummy\"\n",
    ")\n",
    "df_partsupp2 = spark.read.option(\"delimiter\", \"|\").csv(data_path + \"/partsupp.tbl\").toDF(\n",
    "    \"ps_partkey\", \"ps_suppkey\", \"ps_availqty\", \"ps_supplycost\", \"ps_comment\", \"ps_dummy\"\n",
    ")\n",
    "df_orders2 = spark.read.option(\"delimiter\", \"|\").csv(data_path + \"/orders.tbl\").toDF(\n",
    "    \"o_orderkey\", \"o_custkey\", \"o_orderstatus\", \"o_totalprice\", \"o_orderdate\", \"o_orderpriority\", \"o_clerk\", \"o_shippriority\", \"o_comment\", \"o_dummy\"\n",
    ")\n",
    "df_nation2 = spark.read.option(\"delimiter\", \"|\").csv(data_path + \"/nation.tbl\").toDF(\n",
    "    \"n_nationkey\", \"n_name\", \"n_regionkey\", \"n_comment\", \"n_dummy\"\n",
    ")"
   ]
  },
  {
   "cell_type": "code",
   "execution_count": null,
   "id": "f3898a15",
   "metadata": {},
   "outputs": [],
   "source": [
    "# Create tables ON HDFS\n",
    "df_customers2.write.format(\"csv\").mode(\"overwrite\").saveAsTable(\"customer\")\n",
    "df_lineitem2.write.format(\"csv\").mode(\"overwrite\").saveAsTable(\"lineitem\")\n",
    "df_part2.write.format(\"csv\").mode(\"overwrite\").saveAsTable(\"part\")\n",
    "df_region2.write.format(\"csv\").mode(\"overwrite\").saveAsTable(\"region\")\n",
    "df_supplier2.write.format(\"csv\").mode(\"overwrite\").saveAsTable(\"supplier\")\n",
    "df_partsupp2.write.format(\"csv\").mode(\"overwrite\").saveAsTable(\"partsupp\")\n",
    "df_orders2.write.format(\"csv\").mode(\"overwrite\").saveAsTable(\"orders\")\n",
    "df_nation2.write.format(\"csv\").mode(\"overwrite\").saveAsTable(\"nation\")"
   ]
  },
  {
   "cell_type": "code",
   "execution_count": null,
   "id": "985a6415",
   "metadata": {},
   "outputs": [],
   "source": [
    "# Create tables ON HDFS\n",
    "df_customers2.write.format(\"delta\").mode(\"overwrite\").saveAsTable(\"customer\")\n",
    "df_lineitem2.write.format(\"delta\").mode(\"overwrite\").saveAsTable(\"lineitem\")\n",
    "df_part2.write.format(\"delta\").mode(\"overwrite\").saveAsTable(\"part\")\n",
    "df_region2.write.format(\"delta\").mode(\"overwrite\").saveAsTable(\"region\")\n",
    "df_supplier2.write.format(\"delta\").mode(\"overwrite\").saveAsTable(\"supplier\")\n",
    "df_partsupp2.write.format(\"delta\").mode(\"overwrite\").saveAsTable(\"partsupp\")\n",
    "df_orders2.write.format(\"delta\").mode(\"overwrite\").saveAsTable(\"orders\")\n",
    "df_nation2.write.format(\"delta\").mode(\"overwrite\").saveAsTable(\"nation\")"
   ]
  },
  {
   "cell_type": "code",
   "execution_count": null,
   "id": "71a694c4",
   "metadata": {},
   "outputs": [],
   "source": [
    "# Create tables ON HDFS\n",
    "df_customers2.write.format(\"orc\").mode(\"overwrite\").saveAsTable(\"customer\")\n",
    "df_lineitem2.write.format(\"orc\").mode(\"overwrite\").saveAsTable(\"lineitem\")\n",
    "df_part2.write.format(\"orc\").mode(\"overwrite\").saveAsTable(\"part\")\n",
    "df_region2.write.format(\"orc\").mode(\"overwrite\").saveAsTable(\"region\")\n",
    "df_supplier2.write.format(\"orc\").mode(\"overwrite\").saveAsTable(\"supplier\")\n",
    "df_partsupp2.write.format(\"orc\").mode(\"overwrite\").saveAsTable(\"partsupp\")\n",
    "df_orders2.write.format(\"orc\").mode(\"overwrite\").saveAsTable(\"orders\")\n",
    "df_nation2.write.format(\"orc\").mode(\"overwrite\").saveAsTable(\"nation\")"
   ]
  }
 ],
 "metadata": {
  "kernelspec": {
   "display_name": "Python 3 (ipykernel)",
   "language": "python",
   "name": "python3"
  },
  "language_info": {
   "codemirror_mode": {
    "name": "ipython",
    "version": 3
   },
   "file_extension": ".py",
   "mimetype": "text/x-python",
   "name": "python",
   "nbconvert_exporter": "python",
   "pygments_lexer": "ipython3",
   "version": "3.11.4"
  }
 },
 "nbformat": 4,
 "nbformat_minor": 5
}
